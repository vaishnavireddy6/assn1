{
  "cells": [
    {
      "cell_type": "code",
      "execution_count": 2,
      "id": "34ee3198",
      "metadata": {
        "colab": {
          "base_uri": "https://localhost:8080/"
        },
        "id": "34ee3198",
        "outputId": "5abd29e8-d892-4aa8-9f92-f94b8834202c"
      },
      "outputs": [
        {
          "output_type": "stream",
          "name": "stdout",
          "text": [
            "Enter the string with a space between each character\n",
            "P Y T H O N \n",
            "OHTY\n"
          ]
        }
      ],
      "source": [
        "\n",
        "\n",
        "l=input(\"Enter the string with a space between each character\\n\").split()\n",
        "del(l[0])\n",
        "del(l[4])\n",
        "print(''.join(l[::-1]))"
      ]
    },
    {
      "cell_type": "code",
      "execution_count": 3,
      "id": "4aa9f50a",
      "metadata": {
        "colab": {
          "base_uri": "https://localhost:8080/"
        },
        "id": "4aa9f50a",
        "outputId": "1413b059-2cd8-4e1c-c8ee-7c56891e257d"
      },
      "outputs": [
        {
          "output_type": "stream",
          "name": "stdout",
          "text": [
            "enter 1st number98\n",
            "enter 2nd number87\n",
            "sum of the numbers is 185\n",
            "difference of the numbers is 11\n",
            "multiplication of the numbers is 8526\n",
            "division of the numbers is 1.1264367816091954\n"
          ]
        }
      ],
      "source": [
        "c = int(input(\"enter 1st number\"))\n",
        "r = int(input(\"enter 2nd number\"))\n",
        "\n",
        "add = c+r\n",
        "sub = c-r\n",
        "mul = c*r\n",
        "div = c/r\n",
        "\n",
        "print(\"sum of the numbers is\", add)\n",
        "print(\"difference of the numbers is\", sub)\n",
        "print(\"multiplication of the numbers is\", mul)\n",
        "print(\"division of the numbers is\", div)"
      ]
    },
    {
      "cell_type": "code",
      "execution_count": 4,
      "id": "226e11df",
      "metadata": {
        "colab": {
          "base_uri": "https://localhost:8080/"
        },
        "id": "226e11df",
        "outputId": "e29927cb-07c6-437d-b817-b3be5ec870f2"
      },
      "outputs": [
        {
          "output_type": "stream",
          "name": "stdout",
          "text": [
            "Please enter the sentence:i love playing with python\n",
            "i love playing with pythons\n"
          ]
        }
      ],
      "source": [
        "User_Input = input(\"Please enter the sentence:\")\n",
        "User_Value = User_Input.lower()\n",
        "Modified_User_Value = User_Input.replace(\"python\", \"pythons\")\n",
        "print(Modified_User_Value)"
      ]
    },
    {
      "cell_type": "code",
      "execution_count": 5,
      "id": "c7d1636f",
      "metadata": {
        "colab": {
          "base_uri": "https://localhost:8080/"
        },
        "id": "c7d1636f",
        "outputId": "fa3e1a73-fee2-4d11-b60c-5ee753eaa05e"
      },
      "outputs": [
        {
          "output_type": "stream",
          "name": "stdout",
          "text": [
            "enter percent98\n",
            "The pupil will get Grade A\n"
          ]
        }
      ],
      "source": [
        "\n",
        "\n",
        "z = float(input(\"enter percent\"))\n",
        "if z>=90.00 and z<=100:\n",
        "    print(\"The pupil will get Grade A\")\n",
        "elif z>=80.00 and z<=89.99:\n",
        "    print(\"The pupil will get Grade B\")\n",
        "elif z>=70.00 and z<=79.99:\n",
        "    print(\"The pupil will get Grade C\")\n",
        "elif z>=60.00 and z<=69.99:\n",
        "    print(\"The pupil will get Grade D\")\n",
        "elif z<60.00:\n",
        "    print(\"The pupil will get Grade F\")\n",
        ""
      ]
    },
    {
      "cell_type": "code",
      "execution_count": null,
      "id": "9a9c0829",
      "metadata": {
        "id": "9a9c0829"
      },
      "outputs": [],
      "source": []
    }
  ],
  "metadata": {
    "kernelspec": {
      "display_name": "Python 3 (ipykernel)",
      "language": "python",
      "name": "python3"
    },
    "language_info": {
      "codemirror_mode": {
        "name": "ipython",
        "version": 3
      },
      "file_extension": ".py",
      "mimetype": "text/x-python",
      "name": "python",
      "nbconvert_exporter": "python",
      "pygments_lexer": "ipython3",
      "version": "3.9.12"
    },
    "colab": {
      "provenance": []
    }
  },
  "nbformat": 4,
  "nbformat_minor": 5
}